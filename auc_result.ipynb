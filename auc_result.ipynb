{
 "cells": [
  {
   "cell_type": "code",
   "execution_count": 1,
   "metadata": {},
   "outputs": [],
   "source": [
    "import pdb\n",
    "import numpy as np\n",
    "import os\n",
    "import pandas as pd\n",
    "from sklearn import metrics\n",
    "from sklearn import preprocessing\n",
    "import random\n",
    "import csv\n",
    "import matplotlib as plt\n",
    "import pickle\n",
    "import json"
   ]
  },
  {
   "cell_type": "code",
   "execution_count": 6,
   "metadata": {},
   "outputs": [
    {
     "name": "stdout",
     "output_type": "stream",
     "text": [
      "1\n"
     ]
    }
   ],
   "source": [
    "settings = json.load(open('SETTINGS.json'))\n",
    "path_name = settings['feat'][:-6]\n",
    "pat = settings['pat']\n",
    "print(pat)"
   ]
  },
  {
   "cell_type": "code",
   "execution_count": 8,
   "metadata": {},
   "outputs": [
    {
     "name": "stdout",
     "output_type": "stream",
     "text": [
      "Extra Tree Classifier\n",
      "AUC for channel 1 for patient 1: 0.44823733862959286\n",
      "AUC for channel 2 for patient 1: 0.43756206554121146\n",
      "AUC for channel 3 for patient 1: 0.4380585898709036\n",
      "AUC for channel 4 for patient 1: 0.4856007944389275\n",
      "AUC for channel 5 for patient 1: 0.4849801390268123\n",
      "AUC for channel 6 for patient 1: 0.44960278053624625\n",
      "AUC for channel 7 for patient 1: 0.45419563058589874\n",
      "AUC for channel 8 for patient 1: 0.4810079443892751\n",
      "AUC for channel 9 for patient 1: 0.4605263157894737\n",
      "AUC for channel 10 for patient 1: 0.5141509433962265\n",
      "AUC for channel 11 for patient 1: 0.43483118172790464\n",
      "AUC for channel 12 for patient 1: 0.4673535253227408\n",
      "AUC for channel 13 for patient 1: 0.4817527308838133\n",
      "AUC for channel 14 for patient 1: 0.44600297914597814\n",
      "AUC for channel 15 for patient 1: 0.4592850049652433\n",
      "AUC for channel 16 for patient 1: 0.46499503475670306\n"
     ]
    }
   ],
   "source": [
    "# ExtraTreeClassifier\n",
    "print('Extra Tree Classifier')\n",
    "for j in range(16):\n",
    "    labelled_data = pd.read_csv(settings['feat'] + '/pat_' + str(pat) + '_test_data_labels.csv')\n",
    "    column_names = ['file_path', 'probability']\n",
    "    data_predict = pd.read_csv(settings['feat']+'/pat_' + str(pat) + '_predict_test_clf_' + str(j) + '.csv', names=column_names)\n",
    "    data_predict['image'] = data_predict.apply(lambda row: row.file_path[:-4], axis=1)\n",
    "\n",
    "    result_data = pd.merge(labelled_data, data_predict, on='image')\n",
    "\n",
    "    new_result_df = result_data[~result_data['usage'].str.contains('Ignored', na=False)]\n",
    "\n",
    "    new_result_df.columns\n",
    "\n",
    "    this_AUC = metrics.roc_auc_score(new_result_df['class'], new_result_df['probability'])\n",
    "    print(\"AUC for channel {} for patient {}: \".format(j+1, pat) + str(this_AUC))\n"
   ]
  },
  {
   "cell_type": "code",
   "execution_count": 10,
   "metadata": {},
   "outputs": [
    {
     "name": "stdout",
     "output_type": "stream",
     "text": [
      "Random Forest\n",
      "AUC for channel 1 for patient 1: 0.4348311817279047\n",
      "AUC for channel 2 for patient 1: 0.4371896722939424\n",
      "AUC for channel 3 for patient 1: 0.4118669314796425\n",
      "AUC for channel 4 for patient 1: 0.4921797418073485\n",
      "AUC for channel 5 for patient 1: 0.4932969215491559\n",
      "AUC for channel 6 for patient 1: 0.46015392254220455\n",
      "AUC for channel 7 for patient 1: 0.4672293942403178\n",
      "AUC for channel 8 for patient 1: 0.532398212512413\n",
      "AUC for channel 9 for patient 1: 0.4560575968222443\n",
      "AUC for channel 10 for patient 1: 0.5249503475670309\n",
      "AUC for channel 11 for patient 1: 0.48572492552135055\n",
      "AUC for channel 12 for patient 1: 0.4782770605759682\n",
      "AUC for channel 13 for patient 1: 0.49317279046673285\n",
      "AUC for channel 14 for patient 1: 0.45729890764647463\n",
      "AUC for channel 15 for patient 1: 0.45556107249255207\n",
      "AUC for channel 16 for patient 1: 0.47343594836146974\n"
     ]
    }
   ],
   "source": [
    "# Random forest\n",
    "print('Random Forest')\n",
    "for j in range(16):\n",
    "    labelled_data = pd.read_csv(settings['feat'] + '/pat_' + str(pat) + '_test_data_labels.csv')\n",
    "    column_names = ['file_path', 'probability']\n",
    "    data_predict = pd.read_csv(settings['feat']+'/pat_' + str(pat) + '_predict_test_rf_' + str(j) + '.csv', names=column_names)\n",
    "    data_predict['image'] = data_predict.apply(lambda row: row.file_path[:-4], axis=1)\n",
    "\n",
    "    result_data = pd.merge(labelled_data, data_predict, on='image')\n",
    "\n",
    "    new_result_df = result_data[~result_data['usage'].str.contains('Ignored', na=False)]\n",
    "\n",
    "    new_result_df.columns\n",
    "\n",
    "    this_AUC = metrics.roc_auc_score(new_result_df['class'], new_result_df['probability'])\n",
    "    print(\"AUC for channel {} for patient {}: \".format(j+1, pat) + str(this_AUC))"
   ]
  },
  {
   "cell_type": "code",
   "execution_count": 11,
   "metadata": {},
   "outputs": [
    {
     "name": "stdout",
     "output_type": "stream",
     "text": [
      "Logistic regression\n",
      "AUC for channel 1 for patient 1: 0.4637537239324727\n",
      "AUC for channel 2 for patient 1: 0.4857249255213505\n",
      "AUC for channel 3 for patient 1: 0.455188679245283\n",
      "AUC for channel 4 for patient 1: 0.4669811320754717\n",
      "AUC for channel 5 for patient 1: 0.4636295928500497\n",
      "AUC for channel 6 for patient 1: 0.4766633565044687\n",
      "AUC for channel 7 for patient 1: 0.46040218470705063\n",
      "AUC for channel 8 for patient 1: 0.44637537239324726\n",
      "AUC for channel 9 for patient 1: 0.47405660377358494\n",
      "AUC for channel 10 for patient 1: 0.439299900695134\n",
      "AUC for channel 11 for patient 1: 0.4600297914597815\n",
      "AUC for channel 12 for patient 1: 0.45779543197616684\n",
      "AUC for channel 13 for patient 1: 0.45878848063555105\n",
      "AUC for channel 14 for patient 1: 0.46636047666335645\n",
      "AUC for channel 15 for patient 1: 0.4792701092353525\n",
      "AUC for channel 16 for patient 1: 0.4859731876861966\n"
     ]
    }
   ],
   "source": [
    "# Logistic regression\n",
    "print('Logistic regression')\n",
    "for j in range(16):\n",
    "    labelled_data = pd.read_csv(settings['feat'] + '/pat_' + str(pat) + '_test_data_labels.csv')\n",
    "    column_names = ['file_path', 'probability']\n",
    "    data_predict = pd.read_csv(settings['feat']+'/pat_' + str(pat) + '_predict_test_lr_' + str(j) + '.csv', names=column_names)\n",
    "    data_predict['image'] = data_predict.apply(lambda row: row.file_path[:-4], axis=1)\n",
    "\n",
    "    result_data = pd.merge(labelled_data, data_predict, on='image')\n",
    "\n",
    "    new_result_df = result_data[~result_data['usage'].str.contains('Ignored', na=False)]\n",
    "\n",
    "    new_result_df.columns\n",
    "\n",
    "    this_AUC = metrics.roc_auc_score(new_result_df['class'], new_result_df['probability'])\n",
    "    print(\"AUC for channel {} for patient {}: \".format(j+1, pat) + str(this_AUC))"
   ]
  },
  {
   "cell_type": "code",
   "execution_count": 12,
   "metadata": {},
   "outputs": [
    {
     "name": "stdout",
     "output_type": "stream",
     "text": [
      "LDA\n",
      "AUC for channel 1 for patient 1: 0.5050893743793445\n",
      "AUC for channel 2 for patient 1: 0.46139523336643495\n",
      "AUC for channel 3 for patient 1: 0.42837636544190666\n",
      "AUC for channel 4 for patient 1: 0.4892005958291957\n",
      "AUC for channel 5 for patient 1: 0.5521350546176762\n",
      "AUC for channel 6 for patient 1: 0.4519612711022839\n",
      "AUC for channel 7 for patient 1: 0.5283018867924528\n",
      "AUC for channel 8 for patient 1: 0.5506454816285998\n",
      "AUC for channel 9 for patient 1: 0.5147715988083417\n",
      "AUC for channel 10 for patient 1: 0.4304865938430983\n",
      "AUC for channel 11 for patient 1: 0.5130337636544191\n",
      "AUC for channel 12 for patient 1: 0.5367428003972194\n",
      "AUC for channel 13 for patient 1: 0.45891261171797415\n",
      "AUC for channel 14 for patient 1: 0.509558093346574\n",
      "AUC for channel 15 for patient 1: 0.45767130089374375\n",
      "AUC for channel 16 for patient 1: 0.5175024826216484\n"
     ]
    }
   ],
   "source": [
    "# LDA\n",
    "print('LDA')\n",
    "for j in range(16):\n",
    "    labelled_data = pd.read_csv(settings['feat'] + '/pat_' + str(pat) + '_test_data_labels.csv')\n",
    "    column_names = ['file_path', 'probability']\n",
    "    data_predict = pd.read_csv(settings['feat']+'/pat_' + str(pat) + '_predict_test_lda_' + str(j) + '.csv', names=column_names)\n",
    "    data_predict['image'] = data_predict.apply(lambda row: row.file_path[:-4], axis=1)\n",
    "\n",
    "    result_data = pd.merge(labelled_data, data_predict, on='image')\n",
    "\n",
    "    new_result_df = result_data[~result_data['usage'].str.contains('Ignored', na=False)]\n",
    "\n",
    "    new_result_df.columns\n",
    "\n",
    "    this_AUC = metrics.roc_auc_score(new_result_df['class'], new_result_df['probability'])\n",
    "    print(\"AUC for channel {} for patient {}: \".format(j+1, pat) + str(this_AUC))"
   ]
  },
  {
   "cell_type": "code",
   "execution_count": 9,
   "metadata": {},
   "outputs": [],
   "source": [
    "# # ExtraTreeClassifier\n",
    "# print('Extra Tree Classifier')\n",
    "# for patient in [1,2,3]:\n",
    "#     print('\\n********************\\nAUC results for patient {}:'.format(patient))\n",
    "#     for j in range(16):\n",
    "#         labelled_data = pd.read_csv(path_name + str(patient) +'Model/pat_' + str(patient) + '_test_data_labels.csv')\n",
    "#         column_names = ['file_path', 'probability']\n",
    "#         data_predict = pd.read_csv(path_name + str(patient) +'Model/pat_' + str(patient) + '_predict_test_clf_' + str(j) + '.csv', names=column_names)\n",
    "#         data_predict['image'] = data_predict.apply(lambda row: row.file_path[:-4], axis=1)\n",
    "\n",
    "#         result_data = pd.merge(labelled_data, data_predict, on='image')\n",
    "\n",
    "#         new_result_df = result_data[~result_data['usage'].str.contains('Ignored', na=False)]\n",
    "\n",
    "#         new_result_df.columns\n",
    "\n",
    "#         this_AUC = metrics.roc_auc_score(new_result_df['class'], new_result_df['probability'])\n",
    "#         print(\"AUC for channel {} for patient {}: \".format(j+1, patient) + str(this_AUC))"
   ]
  }
 ],
 "metadata": {
  "kernelspec": {
   "display_name": "Python 3",
   "language": "python",
   "name": "python3"
  },
  "language_info": {
   "codemirror_mode": {
    "name": "ipython",
    "version": 3
   },
   "file_extension": ".py",
   "mimetype": "text/x-python",
   "name": "python",
   "nbconvert_exporter": "python",
   "pygments_lexer": "ipython3",
   "version": "3.7.6"
  }
 },
 "nbformat": 4,
 "nbformat_minor": 4
}
